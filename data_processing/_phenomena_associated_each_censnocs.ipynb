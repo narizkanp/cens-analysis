{
 "cells": [
  {
   "cell_type": "code",
   "execution_count": 1,
   "id": "d231fe70-f89f-475c-a1c9-8f8a35045394",
   "metadata": {},
   "outputs": [],
   "source": [
    "#Change directory to data location\n",
    "import os\n",
    "path = 'E:\\Daily Reanalisis ERA 5 v2'\n",
    "os.chdir(path)"
   ]
  },
  {
   "cell_type": "code",
   "execution_count": 2,
   "id": "e29f49a6-9626-40c3-9c97-d0d5af4ef56d",
   "metadata": {},
   "outputs": [],
   "source": [
    "import warnings\n",
    "warnings.simplefilter('ignore') #ignores simple warning"
   ]
  },
  {
   "cell_type": "code",
   "execution_count": 3,
   "id": "587022c4-e04e-45b3-a9cf-7b2e2881d3f0",
   "metadata": {},
   "outputs": [],
   "source": [
    "from datetime import datetime\n",
    "import numpy as np\n",
    "import pandas as pd\n",
    "import xarray as xr\n",
    "from tqdm import tqdm"
   ]
  },
  {
   "cell_type": "code",
   "execution_count": 4,
   "id": "426c6963-d02d-437d-b110-52e21308b3a0",
   "metadata": {},
   "outputs": [],
   "source": [
    "#Read time-event excel data\n",
    "censevt=pd.read_excel('calculation_output\\CENS Event 3 days Running Mean.xlsx')\n",
    "censevt=censevt.set_index('time_cens')"
   ]
  },
  {
   "cell_type": "code",
   "execution_count": 5,
   "id": "26f10137-ac4a-4bac-a361-8263d0326233",
   "metadata": {},
   "outputs": [
    {
     "name": "stdout",
     "output_type": "stream",
     "text": [
      "Banyak kejadian CENS 0 = 48 dari 117\n",
      "Banyak kejadian CENS 0 = 41.02564102564103%\n",
      "Banyak kejadian CENS 1 = 69 dari 117\n",
      "Banyak kejadian CENS 1 = 58.97435897435897%\n"
     ]
    }
   ],
   "source": [
    "#Date event CENS CS no CS (1-->CS, 0-->no CS)\n",
    "n_cens = 2\n",
    "evt_cens_cs = []\n",
    "for i in range(n_cens):\n",
    "    evt_cens = censevt[censevt['cs event'] == i].index\n",
    "    print(\"Banyak kejadian CENS {i} = {n} dari {x}\".format(i=i, n=len(evt_cens), x=len(censevt)))\n",
    "    print(\"Banyak kejadian CENS {i} = {n}%\".format(i=i, n=(len(evt_cens)*100/len(censevt.index))))\n",
    "    evt_cens_cs.append(evt_cens.values)"
   ]
  },
  {
   "cell_type": "code",
   "execution_count": 9,
   "id": "c103cf1a-28ae-470b-82ee-5a1876cc4cba",
   "metadata": {},
   "outputs": [],
   "source": [
    "#Read MJO excel\n",
    "mjoevt=pd.read_excel('data\\MJO BOM.xlsx')\n",
    "mjoslice=mjoevt.set_index(['Tanggal']).loc[evt_cens_cs[0]]\n",
    "tglcensmjo=pd.DataFrame({'time_censnocs': evt_cens_cs[0],\n",
    "                         'phase mjo':mjoslice['phase'].values,\n",
    "                         'amp mjo'  :mjoslice['amplitude'].values\n",
    "                          })\n",
    "tglcensmjoph=tglcensmjo.set_index(['amp mjo', 'phase mjo'])\n",
    "tglcensmjoamp1=tglcensmjoph[tglcensmjoph.index.get_level_values('amp mjo')>=0.5]\n",
    "tglcensmjoph7=tglcensmjoamp1[tglcensmjoamp1.index.get_level_values('phase mjo')==7]\n",
    "tglcensmjoph6=tglcensmjoamp1[tglcensmjoamp1.index.get_level_values('phase mjo')==6]\n",
    "tglcensmjoph67=np.concatenate((tglcensmjoph6['time_censnocs'].values,tglcensmjoph7['time_censnocs'].values))\n",
    "tglcensmjoph4=tglcensmjoamp1[tglcensmjoamp1.index.get_level_values('phase mjo')==4]\n",
    "tglcensmjoph5=tglcensmjoamp1[tglcensmjoamp1.index.get_level_values('phase mjo')==5]\n",
    "tglcensmjoph45=np.concatenate((tglcensmjoph4['time_censnocs'].values,tglcensmjoph5['time_censnocs'].values))\n",
    "tglmjo4567=np.concatenate((tglcensmjoph45, tglcensmjoph67))"
   ]
  },
  {
   "cell_type": "code",
   "execution_count": 10,
   "id": "62c9916d-ebdd-471a-b47d-8d478ae1ef97",
   "metadata": {},
   "outputs": [
    {
     "name": "stdout",
     "output_type": "stream",
     "text": [
      "Thres Amplitude MRG: 1.2258041202083383\n",
      "Thres Amplitude ER: 1.3604651167535824\n"
     ]
    }
   ],
   "source": [
    "#Read EW MRG excel\n",
    "ewevt=pd.read_excel('calculation_output\\Indeks ER MRG Double Side ER EWNS.xlsx')\n",
    "ewslice=ewevt.set_index(['time']).loc[evt_cens_cs[0]-np.timedelta64(0,'D')]\n",
    "\n",
    "#Klimatologi Amplitude EW\n",
    "ewevtxarray = xr.Dataset(\n",
    "     {\"amp mrg\": ((\"time\"), ewevt['amp mrg'].values), \"amp er\": ((\"time\"), ewevt['amp er'].values)},\n",
    "    coords={\n",
    "    \"time\":   ewevt['time'].values},\n",
    "    )\n",
    "ewevtdjf=ewevtxarray.sel(time=slice('1979-12-01T00:00:00.000000000','2020-02-29T00:00:00.000000000'))\n",
    "ewevtdjf=ewevtdjf.sel(time=ewevtdjf.time.dt.season==\"DJF\")\n",
    "\n",
    "thresmrg=(ewevtdjf['amp mrg'].mean()+0*ewevtdjf['amp mrg'].std()).values\n",
    "print('Thres Amplitude MRG: '+ str(thresmrg))\n",
    "tglcensew=pd.DataFrame({'time_censnocs': evt_cens_cs[0],\n",
    "                         'phase mrg':ewslice['phase mrg'].values,\n",
    "                         'amp mrg'  :ewslice['amp mrg'].values,\n",
    "                          })\n",
    "tglcensew=tglcensew.set_index(['phase mrg', 'amp mrg'])\n",
    "tglcensmrgamp = tglcensew[tglcensew.index.get_level_values('amp mrg')>=thresmrg]\n",
    "tglcensmrgph1=tglcensmrgamp[tglcensmrgamp.index.get_level_values('phase mrg')==1]\n",
    "tglcensmrg1=tglcensmrgph1['time_censnocs'].values\n",
    "\n",
    "threser=(ewevtdjf['amp er'].mean()+0*ewevtdjf['amp er'].std()).values\n",
    "print('Thres Amplitude ER: '+ str(threser))\n",
    "tglcensew=pd.DataFrame({'time_censnocs': evt_cens_cs[0],\n",
    "                         'phase er':ewslice['phase er'].values,\n",
    "                         'amp er'  :ewslice['amp er'].values,\n",
    "                          })\n",
    "tglcensew=tglcensew.set_index(['phase er', 'amp er'])\n",
    "tglcenseramp = tglcensew[tglcensew.index.get_level_values('amp er')>=threser]\n",
    "tglcenserph1=tglcenseramp[tglcenseramp.index.get_level_values('phase er')==1]\n",
    "tglcenser1=tglcenserph1['time_censnocs'].values"
   ]
  },
  {
   "cell_type": "code",
   "execution_count": 13,
   "id": "62279b6e-9081-446f-8c3c-c99fee087e01",
   "metadata": {},
   "outputs": [],
   "source": [
    "#Read TC excel data\n",
    "tcevt=pd.read_excel('data/Data Tropical Cyclone 95_125 _25.xlsx')\n",
    "tcevt['DATE']= pd.to_datetime(tcevt['DATE'], format='%Y-%m-%d')\n",
    "fcensevt=censevt[censevt['cs event']==0]\n",
    "fcensevt['TC']=np.isin(fcensevt.index,tcevt['DATE'])*1\n",
    "tcevtfilt=tcevt.set_index(['DATE'])\n",
    "tcevtfilt=tcevtfilt.groupby(tcevtfilt.index.floor('D')).mean(numeric_only=True)\n",
    "tgltc=fcensevt[(fcensevt['TC']==1)].index.values"
   ]
  },
  {
   "cell_type": "code",
   "execution_count": 15,
   "id": "95cc99ca-a78d-4cbe-96f0-adf7f6d0a93c",
   "metadata": {},
   "outputs": [],
   "source": [
    "evtmjo4567=np.empty([len(evt_cens_cs[0])])\n",
    "evtmrg1=np.empty([len(evt_cens_cs[0])])\n",
    "evter1=np.empty([len(evt_cens_cs[0])])\n",
    "evttc=np.empty([len(evt_cens_cs[0])])\n",
    "for i in range(len(evt_cens_cs[0])):\n",
    "    if evt_cens_cs[0][i] in tglmjo4567:\n",
    "        evtmjo4567[i]=1\n",
    "    else:\n",
    "        evtmjo4567[i]=0\n",
    "    if evt_cens_cs[0][i] in tglcensmrg1:\n",
    "        evtmrg1[i]=1\n",
    "    else:\n",
    "        evtmrg1[i]=0\n",
    "    if evt_cens_cs[0][i] in tglcenser1:\n",
    "        evter1[i]=1\n",
    "    else:\n",
    "        evter1[i]=0\n",
    "    if evt_cens_cs[0][i] in tgltc:\n",
    "        evttc[i]=1\n",
    "    else:\n",
    "        evttc[i]=0"
   ]
  },
  {
   "cell_type": "code",
   "execution_count": 17,
   "id": "01b1a057-c170-46cc-9390-86a8f2a90a5b",
   "metadata": {},
   "outputs": [],
   "source": [
    "fcensevent=pd.DataFrame({'time_censnocs': evt_cens_cs[0],\n",
    "                         'MJO4567':evtmjo4567,\n",
    "                         'MRG1'  :evtmrg1,\n",
    "                         'ER1'  :evter1,\n",
    "                         'TC'  :evttc\n",
    "                          })"
   ]
  },
  {
   "cell_type": "code",
   "execution_count": 19,
   "id": "f508c670-fbbb-4688-acd3-bc0dd3c7d94f",
   "metadata": {},
   "outputs": [],
   "source": [
    "#Save to excel file\n",
    "writer = pd.ExcelWriter('calculation_output\\Phenomena Associated with CENS-noCS.xlsx')\n",
    "fcensevent.to_excel(writer, 'Phenomena')\n",
    "writer.close()"
   ]
  },
  {
   "cell_type": "code",
   "execution_count": null,
   "id": "02f5d76a-14cd-469d-bc4d-7121716e6ba5",
   "metadata": {},
   "outputs": [],
   "source": []
  }
 ],
 "metadata": {
  "kernelspec": {
   "display_name": "Python 3 (ipykernel)",
   "language": "python",
   "name": "python3"
  },
  "language_info": {
   "codemirror_mode": {
    "name": "ipython",
    "version": 3
   },
   "file_extension": ".py",
   "mimetype": "text/x-python",
   "name": "python",
   "nbconvert_exporter": "python",
   "pygments_lexer": "ipython3",
   "version": "3.11.7"
  }
 },
 "nbformat": 4,
 "nbformat_minor": 5
}
