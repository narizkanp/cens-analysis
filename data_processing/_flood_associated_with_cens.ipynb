{
 "cells": [
  {
   "cell_type": "code",
   "execution_count": 1,
   "id": "1b7ab504-10ef-4abf-a6b6-e7c5baa22151",
   "metadata": {},
   "outputs": [],
   "source": [
    "#Change directory to data location\n",
    "import os\n",
    "path = 'E:\\Daily Reanalisis ERA 5 v2'\n",
    "os.chdir(path)"
   ]
  },
  {
   "cell_type": "code",
   "execution_count": 2,
   "id": "ab9b0248-d52c-41b2-ba0c-e589fbde13de",
   "metadata": {},
   "outputs": [],
   "source": [
    "import warnings\n",
    "warnings.simplefilter('ignore') #ignores simple warning"
   ]
  },
  {
   "cell_type": "code",
   "execution_count": 3,
   "id": "bc9d71c5-f6ff-4d68-bb26-f956c21424b4",
   "metadata": {},
   "outputs": [],
   "source": [
    "#Import package\n",
    "from datetime import datetime\n",
    "import matplotlib.pyplot as plt\n",
    "import matplotlib.colors\n",
    "import numpy as np\n",
    "import pandas as pd\n",
    "import xarray as xr\n",
    "import cartopy.crs as ccrs\n",
    "import cartopy.feature as cfeature\n",
    "from scipy import stats\n",
    "import matplotlib.ticker as tk\n",
    "import matplotlib.patches as mpatches\n",
    "from tqdm import tqdm\n",
    "import seaborn as sns\n",
    "from cartopy.io.shapereader import Reader\n",
    "from cartopy.feature import ShapelyFeature"
   ]
  },
  {
   "cell_type": "code",
   "execution_count": 4,
   "id": "351605e2-d49f-4fba-8c06-948cd52c8f72",
   "metadata": {},
   "outputs": [],
   "source": [
    "selectst=['96745', '96741', '96747', '96733', '96749']"
   ]
  },
  {
   "cell_type": "code",
   "execution_count": 5,
   "id": "2ec84114-12c5-4193-824f-fcf884836540",
   "metadata": {},
   "outputs": [],
   "source": [
    "datast=pd.read_excel('E:\\Data stasiun BMKG\\A-Database.xlsx', index_col=2)\n",
    "datast.index = datast.index.astype(str)\n",
    "datastslc=datast.loc[selectst]"
   ]
  },
  {
   "cell_type": "code",
   "execution_count": 6,
   "id": "9e61c5da-13b3-4b4c-ac7b-a61fcdf617ef",
   "metadata": {},
   "outputs": [],
   "source": [
    "#Read time-event excel data\n",
    "censevt=pd.read_excel('calculation_output\\CENS Event 3 days Running Mean.xlsx')\n",
    "censevt=censevt.set_index('time_cens')"
   ]
  },
  {
   "cell_type": "code",
   "execution_count": 7,
   "id": "04c27898-49d2-40d5-bac3-680d5ce89540",
   "metadata": {},
   "outputs": [
    {
     "name": "stdout",
     "output_type": "stream",
     "text": [
      "Banyak kejadian CENS 0 = 48 dari 117\n",
      "Banyak kejadian CENS 0 = 41.02564102564103%\n",
      "Banyak kejadian CENS 1 = 69 dari 117\n",
      "Banyak kejadian CENS 1 = 58.97435897435897%\n"
     ]
    }
   ],
   "source": [
    "#Date event CENS CS no CS (1-->CS, 0-->no CS)\n",
    "n_cens = 2\n",
    "evt_cens_cs = []\n",
    "for i in range(n_cens):\n",
    "    evt_cens = censevt[censevt['cs event'] == i].index\n",
    "    print(\"Banyak kejadian CENS {i} = {n} dari {x}\".format(i=i, n=len(evt_cens), x=len(censevt)))\n",
    "    print(\"Banyak kejadian CENS {i} = {n}%\".format(i=i, n=(len(evt_cens)*100/len(censevt.index))))\n",
    "    evt_cens_cs.append(evt_cens.values)"
   ]
  },
  {
   "cell_type": "code",
   "execution_count": 8,
   "id": "4985d91c-8391-496c-9725-7d883f9899bb",
   "metadata": {},
   "outputs": [],
   "source": [
    "evt_cens_cs=[evt_cens_cs[1], evt_cens_cs[0]]"
   ]
  },
  {
   "cell_type": "code",
   "execution_count": 9,
   "id": "67024fa8-ea76-4bd6-bd18-636ce0cbe588",
   "metadata": {},
   "outputs": [
    {
     "name": "stderr",
     "output_type": "stream",
     "text": [
      "100%|██████████████████████████████████████████████████████████████████████████████████| 69/69 [00:21<00:00,  3.17it/s]\n"
     ]
    }
   ],
   "source": [
    "chstmeancs=np.empty([len(evt_cens_cs[0])], dtype=float)\n",
    "chstmeancsstd=np.empty([len(evt_cens_cs[0])], dtype=float)\n",
    "\n",
    "for evt in tqdm(range(len(evt_cens_cs[0]))):\n",
    "    chst=np.empty([len(datastslc)])\n",
    "    anomchst=np.empty([len(datastslc)])\n",
    "    for i in range(len(datastslc)):\n",
    "        data=pd.read_csv('E:/Data stasiun BMKG/Reformat daily/' + datastslc.index[i] +'.csv')\n",
    "        data['Date']= pd.to_datetime(data['Date'], format='%Y-%m-%d')\n",
    "        data['RR(mm/dy)'] = pd.to_numeric(data['RR(mm/dy)'], errors='coerce')\n",
    "        data = data.set_index('Date',drop=False)\n",
    "        data = data.loc['2001-11-01':'2020-03-31']\n",
    "        tglcens = np.array([evt_cens_cs[0][evt], evt_cens_cs[0][evt]+np.timedelta64(1,'D')])\n",
    "        chst[i] = data['RR(mm/dy)'].loc[tglcens[np.isin(tglcens,data['Date'])]].max()\n",
    "        season = ((data.index.month % 12 + 3) // 3).map({1:'DJF', 2: 'MAM', 3:'JJA', 4:'SON'})\n",
    "        klimdjf = data[season == 'DJF']['RR(mm/dy)'].mean()\n",
    "        anomchst[i] = chst[i] - klimdjf\n",
    "    chstmeancs[evt]=np.nanmean(chst)\n",
    "    chstmeancsstd[evt]=np.nanstd(chst)"
   ]
  },
  {
   "cell_type": "code",
   "execution_count": 10,
   "id": "1a9cce5d-cd2a-48bd-9689-7afd722edf31",
   "metadata": {},
   "outputs": [],
   "source": [
    "chcs=pd.DataFrame({'tglcens': evt_cens_cs[0],\n",
    "                   'chmean':chstmeancs,\n",
    "                   'chstd':chstmeancsstd\n",
    "                          })\n",
    "chcs=chcs.set_index('tglcens')"
   ]
  },
  {
   "cell_type": "code",
   "execution_count": 11,
   "id": "7914dc72-f867-46c0-8534-62f5f70e9fdf",
   "metadata": {},
   "outputs": [
    {
     "name": "stderr",
     "output_type": "stream",
     "text": [
      "100%|██████████████████████████████████████████████████████████████████████████████████| 48/48 [00:15<00:00,  3.18it/s]\n"
     ]
    }
   ],
   "source": [
    "chstmeanncs=np.empty([len(evt_cens_cs[1])], dtype=float)\n",
    "chstmeanncsstd=np.empty([len(evt_cens_cs[1])], dtype=float)\n",
    "\n",
    "for evt in tqdm(range(len(evt_cens_cs[1]))):\n",
    "    chst=np.empty([len(datastslc)])\n",
    "    anomchst=np.empty([len(datastslc)])\n",
    "    for i in range(len(datastslc)):\n",
    "        data=pd.read_csv('E:/Data stasiun BMKG/Reformat daily/' + datastslc.index[i] +'.csv')\n",
    "        data['Date']= pd.to_datetime(data['Date'], format='%Y-%m-%d')\n",
    "        data['RR(mm/dy)'] = pd.to_numeric(data['RR(mm/dy)'], errors='coerce')\n",
    "        data = data.set_index('Date',drop=False)\n",
    "        data = data.loc['2001-11-01':'2020-03-31']\n",
    "        tglcens = np.array([evt_cens_cs[1][evt], evt_cens_cs[1][evt]+np.timedelta64(1,'D')])\n",
    "        chst[i] = data['RR(mm/dy)'].loc[tglcens[np.isin(tglcens,data['Date'])]].max()\n",
    "        season = ((data.index.month % 12 + 3) // 3).map({1:'DJF', 2: 'MAM', 3:'JJA', 4:'SON'})\n",
    "        klimdjf = data[season == 'DJF']['RR(mm/dy)'].mean()\n",
    "        anomchst[i] = chst[i] - klimdjf\n",
    "    chstmeanncs[evt]=np.nanmean(chst)\n",
    "    chstmeanncsstd[evt]=np.nanstd(chst)"
   ]
  },
  {
   "cell_type": "code",
   "execution_count": 12,
   "id": "8112e106-f847-4c1c-ab64-fc06ede1bb06",
   "metadata": {},
   "outputs": [],
   "source": [
    "chncs=pd.DataFrame({'tglcens': evt_cens_cs[1],\n",
    "                   'chmean':chstmeanncs,\n",
    "                   'chstd':chstmeanncsstd\n",
    "                          })\n",
    "chncs=chncs.set_index('tglcens')"
   ]
  },
  {
   "cell_type": "code",
   "execution_count": 13,
   "id": "7ce6c38f-45de-4931-b393-d30cc01b6bf4",
   "metadata": {},
   "outputs": [],
   "source": [
    "#Read Banjir excel data\n",
    "floodevt=pd.read_excel('data\\Data Banjir Jakarta.xlsx')\n",
    "floodevt['tanggal']= pd.to_datetime(floodevt['tanggal'], format='%Y-%m-%d')\n",
    "floodevt=floodevt.set_index('tanggal')\n",
    "floodevt = floodevt.groupby(floodevt.index.floor('D')).sum()"
   ]
  },
  {
   "cell_type": "code",
   "execution_count": 14,
   "id": "493556b4-e05e-4ce4-afdb-6feaaf7e068f",
   "metadata": {},
   "outputs": [
    {
     "name": "stderr",
     "output_type": "stream",
     "text": [
      "100%|██████████████████████████████████████████████████████████████████████████████████| 69/69 [00:05<00:00, 13.28it/s]\n",
      "100%|██████████████████████████████████████████████████████████████████████████████████| 48/48 [00:03<00:00, 12.39it/s]\n"
     ]
    }
   ],
   "source": [
    "floodevtcens=np.empty(2)\n",
    "tglcsf=[]\n",
    "tglncsf=[]\n",
    "tglcsfd=[]\n",
    "tglncsfd=[]\n",
    "bacsf=[]\n",
    "bancsf=[]\n",
    "krbcs=[]\n",
    "krbncs=[]\n",
    "chcsv=[]\n",
    "chncsv=[]\n",
    "chcss=[]\n",
    "chncss=[]\n",
    "idxcsv=[]\n",
    "idxncsv=[]\n",
    "durcsv=[]\n",
    "durncsv=[]\n",
    "for i in range(2):\n",
    "    totalbanjir=0\n",
    "    korban=0\n",
    "    for f in tqdm(range(len(evt_cens_cs[i]))):\n",
    "        datacens=censevt.loc[evt_cens_cs[i][f]]\n",
    "        rangecens=pd.date_range(datacens['time_start'], datacens['time_start']+np.timedelta64(datacens['duration']-1,'D'))\n",
    "        for t in rangecens:\n",
    "            for e in floodevt.index.values:\n",
    "                e=[e]\n",
    "                if (t in e) or (t+np.timedelta64(1,'D') in e) or (t+np.timedelta64(2,'D') in e) or (t+np.timedelta64(-1,'D') in e) or (t+np.timedelta64(-2,'D') in e):\n",
    "                    totalbanjir=totalbanjir+1\n",
    "                    if i==0:\n",
    "                        tglcsf.append(evt_cens_cs[i][f])\n",
    "                        tglcsfd.append(e[0])\n",
    "                        bacsf.append((evt_cens_cs[i][f]<=e[0])*1)\n",
    "                        krbcs.append(floodevt.loc[e[0]]['korban_total'])\n",
    "                        chcsv.append(chcs.loc[evt_cens_cs[i][f]]['chmean'])\n",
    "                        chcss.append(chcs.loc[evt_cens_cs[i][f]]['chstd'])\n",
    "                        idxcsv.append(censevt.loc[evt_cens_cs[i][f]]['maxmagnitude'])\n",
    "                        durcsv.append(censevt.loc[evt_cens_cs[i][f]]['duration'])\n",
    "                    elif i==1:\n",
    "                        tglncsf.append(evt_cens_cs[i][f])\n",
    "                        tglncsfd.append(e[0])\n",
    "                        bancsf.append((evt_cens_cs[i][f]<=e[0])*1)\n",
    "                        krbncs.append(floodevt.loc[e[0]]['korban_total'])\n",
    "                        chncsv.append(chncs.loc[evt_cens_cs[i][f]]['chmean'])\n",
    "                        chncss.append(chncs.loc[evt_cens_cs[i][f]]['chstd'])\n",
    "                        idxncsv.append(censevt.loc[evt_cens_cs[i][f]]['maxmagnitude'])\n",
    "                        durncsv.append(censevt.loc[evt_cens_cs[i][f]]['duration'])\n",
    "    floodevtcens[i]=totalbanjir"
   ]
  },
  {
   "cell_type": "code",
   "execution_count": 17,
   "id": "321f8858-6e3b-4746-b24e-29e87205d83b",
   "metadata": {},
   "outputs": [],
   "source": [
    "fdcs=pd.DataFrame({'tglcens': tglcsf,\n",
    "                   'magcens': idxcsv,\n",
    "                   'meanr': chcsv,\n",
    "                   'stdr' : chcss,\n",
    "                   'tglfld':tglcsfd,\n",
    "                   'victim':krbcs,\n",
    "                   'before/after CENS'  :bacsf,\n",
    "                          })\n",
    "fdcs['tffld']=fdcs.duplicated(subset=['tglfld'])\n",
    "fdcs['tfcens']=fdcs.duplicated(subset=['tglcens'])\n",
    "fdcstab=fdcs[(fdcs['tffld']==False) | (fdcs['tfcens']==False)]\n",
    "fdcstab=fdcstab.drop(columns=['tffld', 'tfcens'])\n",
    "\n",
    "fdncs=pd.DataFrame({'tglcens': tglncsf,\n",
    "                    'magcens': idxncsv,\n",
    "                    'meanr': chncsv,\n",
    "                    'stdr' : chncss,\n",
    "                    'tglfld':tglncsfd,\n",
    "                    'victim':krbncs,\n",
    "                    'before/after CENS'  :bancsf,\n",
    "                          })\n",
    "fdncs['tffld']=fdncs.duplicated(subset=['tglfld'])\n",
    "fdncs['tfcens']=fdncs.duplicated(subset=['tglcens'])\n",
    "fdncstab=fdncs[(fdncs['tffld']==False) | (fdncs['tfcens']==False)]\n",
    "fdncstab=fdncstab.drop(columns=['tffld', 'tfcens'])\n",
    "\n",
    "writer = pd.ExcelWriter('calculation_output\\Flood Event Data CENS.xlsx')\n",
    "fdcstab.to_excel(writer, 'CENS-CS')\n",
    "fdncstab.to_excel(writer, 'CENS-noCS')\n",
    "writer.close()"
   ]
  },
  {
   "cell_type": "code",
   "execution_count": null,
   "id": "66c5c9c2-c658-46aa-9794-1c96f423a0a2",
   "metadata": {},
   "outputs": [],
   "source": []
  }
 ],
 "metadata": {
  "kernelspec": {
   "display_name": "Python 3 (ipykernel)",
   "language": "python",
   "name": "python3"
  },
  "language_info": {
   "codemirror_mode": {
    "name": "ipython",
    "version": 3
   },
   "file_extension": ".py",
   "mimetype": "text/x-python",
   "name": "python",
   "nbconvert_exporter": "python",
   "pygments_lexer": "ipython3",
   "version": "3.11.7"
  }
 },
 "nbformat": 4,
 "nbformat_minor": 5
}
