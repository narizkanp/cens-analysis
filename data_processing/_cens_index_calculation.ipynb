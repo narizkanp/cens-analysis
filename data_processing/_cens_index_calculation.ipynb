{
 "cells": [
  {
   "cell_type": "code",
   "execution_count": 4,
   "id": "a13b0e2e-b2e2-4e4a-a270-469ecf211b8f",
   "metadata": {},
   "outputs": [],
   "source": [
    "#Change directory to data location\n",
    "import os\n",
    "path = 'E:\\Daily Reanalisis ERA 5 v2'\n",
    "os.chdir(path)"
   ]
  },
  {
   "cell_type": "code",
   "execution_count": 6,
   "id": "e1589767-93d5-4362-80e9-f6ed9732c79b",
   "metadata": {},
   "outputs": [],
   "source": [
    "import warnings\n",
    "warnings.simplefilter('ignore') #ignores simple warning"
   ]
  },
  {
   "cell_type": "code",
   "execution_count": 7,
   "id": "22cd2360-b56d-4852-83ea-c43257a993c4",
   "metadata": {},
   "outputs": [],
   "source": [
    "import pandas as pd\n",
    "import xarray as xr"
   ]
  },
  {
   "cell_type": "code",
   "execution_count": 8,
   "id": "037a4bd6-5c4a-4ce3-aed6-eaaab3af6dc2",
   "metadata": {},
   "outputs": [],
   "source": [
    "#Read data\n",
    "datav10 = xr.open_mfdataset('v10\\*.nc',combine = 'by_coords')"
   ]
  },
  {
   "cell_type": "code",
   "execution_count": 9,
   "id": "1e2e600e-7267-4a78-b40e-22f009a62703",
   "metadata": {},
   "outputs": [],
   "source": [
    "censidxndjfm=datav10.sel(lat= slice(-5,0), lon=slice(105,110), time=slice('1979-11-01T00:00:00.000000000','2020-03-31T00:00:00.000000000'))\n",
    "censidxndjfm=censidxndjfm.sel(time=censidxndjfm.time.dt.month.isin([1, 2, 3, 11, 12]))\n",
    "censidxndjfm=censidxndjfm.mean(dim=('lat', 'lon'))"
   ]
  },
  {
   "cell_type": "code",
   "execution_count": 11,
   "id": "49ceb6b9-ba04-442f-ab5b-77388b323b2a",
   "metadata": {},
   "outputs": [],
   "source": [
    "tglcensndjfm=pd.DataFrame({'time': censidxndjfm['time'].values, \n",
    "                          'cens index': censidxndjfm['v10'].values\n",
    "                        })"
   ]
  },
  {
   "cell_type": "code",
   "execution_count": 12,
   "id": "9f94938c-092c-402e-b716-937576f899f4",
   "metadata": {},
   "outputs": [],
   "source": [
    "writer = pd.ExcelWriter('calculation_output\\CENS Index NDJFM.xlsx')\n",
    "tglcensndjfm.to_excel(writer, 'CENS_index')\n",
    "writer.close()"
   ]
  },
  {
   "cell_type": "code",
   "execution_count": null,
   "id": "2dd2e944-45d8-4798-82bb-b2f4bc4f45cc",
   "metadata": {},
   "outputs": [],
   "source": []
  }
 ],
 "metadata": {
  "kernelspec": {
   "display_name": "Python 3 (ipykernel)",
   "language": "python",
   "name": "python3"
  },
  "language_info": {
   "codemirror_mode": {
    "name": "ipython",
    "version": 3
   },
   "file_extension": ".py",
   "mimetype": "text/x-python",
   "name": "python",
   "nbconvert_exporter": "python",
   "pygments_lexer": "ipython3",
   "version": "3.11.7"
  }
 },
 "nbformat": 4,
 "nbformat_minor": 5
}
