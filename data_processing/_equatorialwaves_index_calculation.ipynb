{
 "cells": [
  {
   "cell_type": "code",
   "execution_count": 15,
   "id": "e0d2e2fe-ee1e-4543-b5bb-539c054cb18e",
   "metadata": {},
   "outputs": [],
   "source": [
    "#Change directory to data location\n",
    "import os\n",
    "path = 'E:\\Daily Reanalisis ERA 5 v2'\n",
    "os.chdir(path)"
   ]
  },
  {
   "cell_type": "code",
   "execution_count": 16,
   "id": "a0c12bec-3b90-45d6-a0cb-6a577a9d8fff",
   "metadata": {},
   "outputs": [],
   "source": [
    "import warnings\n",
    "warnings.simplefilter('ignore') #ignores simple warning"
   ]
  },
  {
   "cell_type": "code",
   "execution_count": 17,
   "id": "c3270f83",
   "metadata": {},
   "outputs": [],
   "source": [
    "from datetime import datetime\n",
    "import numpy as np\n",
    "import pandas as pd\n",
    "import xarray as xr\n",
    "import netCDF4 as nc\n",
    "import cartopy.crs as ccrs\n",
    "import cartopy.feature as cfeature\n",
    "import matplotlib.pyplot as plt"
   ]
  },
  {
   "cell_type": "code",
   "execution_count": 18,
   "id": "6ba60748",
   "metadata": {},
   "outputs": [],
   "source": [
    "erossby=xr.open_dataset('E:\\CobaWK99\\Data Hasil Filter\\wk_er_olr.nc')\n",
    "mrossby=xr.open_dataset('E:\\CobaWK99\\Data Hasil Filter\\wk_mrg_olr.nc')"
   ]
  },
  {
   "cell_type": "code",
   "execution_count": 19,
   "id": "ae18f3c1-d7f7-4455-981c-ad5b654ac4c9",
   "metadata": {},
   "outputs": [],
   "source": [
    "idxer1=erossby.sel(lat= slice(3,14), lon=slice(86,101), time=slice('1979-01-01T00:00:00.000000000','2020-12-31T00:00:00.000000000')).mean(dim=('lat','lon'))['olr_er']\n",
    "idxer2=erossby.sel(lat= slice(-16,-4), lon=slice(113,128), time=slice('1979-01-01T00:00:00.000000000','2020-12-31T00:00:00.000000000')).mean(dim=('lat','lon'))['olr_er']\n",
    "idxer=idxer1-idxer2"
   ]
  },
  {
   "cell_type": "code",
   "execution_count": 20,
   "id": "d9aa91a2-cd91-4e2a-bfef-6db1311aa778",
   "metadata": {},
   "outputs": [],
   "source": [
    "mrg1 = mrossby.sel(lat= slice(2,9), lon=slice(97,110), time=slice('1979-01-01T00:00:00.000000000','2020-12-31T00:00:00.000000000')).mean(dim=('lat','lon'))['olr_mrg']\n",
    "mrg2 = mrossby.sel(lat= slice(-6,-3), lon=slice(105,117), time=slice('1979-01-01T00:00:00.000000000','2020-12-31T00:00:00.000000000')).mean(dim=('lat','lon'))['olr_mrg']\n",
    "idxmrg=mrg1-mrg2"
   ]
  },
  {
   "cell_type": "code",
   "execution_count": 21,
   "id": "acb46464",
   "metadata": {},
   "outputs": [],
   "source": [
    "time=idxer['time'][1:-1].values"
   ]
  },
  {
   "cell_type": "code",
   "execution_count": 22,
   "id": "09abdafe",
   "metadata": {},
   "outputs": [],
   "source": [
    "dtidxmrg=(idxmrg[2:].values-idxmrg[:-2].values)/2\n",
    "dtidxer=(idxer[2:].values-idxer[:-2].values)/2"
   ]
  },
  {
   "cell_type": "code",
   "execution_count": 23,
   "id": "a3d9697c",
   "metadata": {},
   "outputs": [],
   "source": [
    "idxmrgcut=idxmrg[1:-1].values\n",
    "idxercut=idxer[1:-1].values"
   ]
  },
  {
   "cell_type": "code",
   "execution_count": 24,
   "id": "4632526a",
   "metadata": {},
   "outputs": [],
   "source": [
    "#Normalization\n",
    "idxmrgcut=idxmrgcut/np.std(idxmrgcut)\n",
    "idxercut=idxercut/np.std(idxercut)\n",
    "dtidxmrg=dtidxmrg/np.std(dtidxmrg)\n",
    "dtidxer=dtidxer/np.std(dtidxer)"
   ]
  },
  {
   "cell_type": "code",
   "execution_count": 25,
   "id": "f881e534",
   "metadata": {},
   "outputs": [],
   "source": [
    "ampmrg=np.sqrt(dtidxmrg**2+idxmrgcut**2)\n",
    "amper=np.sqrt(dtidxer**2+idxercut**2)"
   ]
  },
  {
   "cell_type": "code",
   "execution_count": 26,
   "id": "63d0fcd2",
   "metadata": {},
   "outputs": [],
   "source": [
    "angmrg=np.rad2deg(np.arctan2(dtidxmrg,idxmrgcut))\n",
    "anger=np.rad2deg(np.arctan2(dtidxer,idxercut))"
   ]
  },
  {
   "cell_type": "code",
   "execution_count": 27,
   "id": "b16ca394",
   "metadata": {},
   "outputs": [],
   "source": [
    "phmrg=np.empty([len(angmrg)])\n",
    "for i in range(len(angmrg)):\n",
    "    if (angmrg[i]<=45 and angmrg[i]>-45):\n",
    "        phmrg[i]=1\n",
    "    elif (angmrg[i]<=-45 and angmrg[i]>-135):\n",
    "        phmrg[i]=2\n",
    "    elif (angmrg[i]<=-135 or angmrg[i]>135):\n",
    "        phmrg[i]=3\n",
    "    elif (angmrg[i]<=135 and angmrg[i]>45):\n",
    "        phmrg[i]=4"
   ]
  },
  {
   "cell_type": "code",
   "execution_count": 28,
   "id": "336162d7",
   "metadata": {},
   "outputs": [],
   "source": [
    "pher=np.empty([len(anger)])\n",
    "for i in range(len(anger)):\n",
    "    if (anger[i]<=45 and anger[i]>-45):\n",
    "        pher[i]=1\n",
    "    elif (anger[i]<=-45 and anger[i]>-135):\n",
    "        pher[i]=2\n",
    "    elif (anger[i]<=-135 or anger[i]>135):\n",
    "        pher[i]=3\n",
    "    elif (anger[i]<=135 and anger[i]>45):\n",
    "        pher[i]=4"
   ]
  },
  {
   "cell_type": "code",
   "execution_count": 30,
   "id": "208651be",
   "metadata": {},
   "outputs": [],
   "source": [
    "tglidxermrg=pd.DataFrame({'time': time,\n",
    "                         'phase mrg':phmrg,\n",
    "                         'amp mrg'  :ampmrg,\n",
    "                         'phase er' :pher,\n",
    "                         'amp er'   :amper,\n",
    "                          })"
   ]
  },
  {
   "cell_type": "code",
   "execution_count": 31,
   "id": "a11df648",
   "metadata": {},
   "outputs": [],
   "source": [
    "writer = pd.ExcelWriter('calculation_output\\Indeks ER MRG Double Side ER EWNS.xlsx')\n",
    "tglidxermrg.to_excel(writer, 'EW')\n",
    "writer.close()"
   ]
  },
  {
   "cell_type": "code",
   "execution_count": null,
   "id": "f309f729",
   "metadata": {},
   "outputs": [],
   "source": []
  }
 ],
 "metadata": {
  "kernelspec": {
   "display_name": "Python 3 (ipykernel)",
   "language": "python",
   "name": "python3"
  },
  "language_info": {
   "codemirror_mode": {
    "name": "ipython",
    "version": 3
   },
   "file_extension": ".py",
   "mimetype": "text/x-python",
   "name": "python",
   "nbconvert_exporter": "python",
   "pygments_lexer": "ipython3",
   "version": "3.11.7"
  }
 },
 "nbformat": 4,
 "nbformat_minor": 5
}
