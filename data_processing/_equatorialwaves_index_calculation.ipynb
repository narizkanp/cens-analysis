{
 "cells": [
  {
   "cell_type": "code",
   "execution_count": 7,
   "id": "e0d2e2fe-ee1e-4543-b5bb-539c054cb18e",
   "metadata": {},
   "outputs": [],
   "source": [
    "#Change directory to data location\n",
    "import os\n",
    "path = 'E:\\Daily Reanalisis ERA 5 v2'\n",
    "os.chdir(path)"
   ]
  },
  {
   "cell_type": "code",
   "execution_count": 8,
   "id": "a0c12bec-3b90-45d6-a0cb-6a577a9d8fff",
   "metadata": {},
   "outputs": [],
   "source": [
    "import warnings\n",
    "warnings.simplefilter('ignore') #ignores simple warning"
   ]
  },
  {
   "cell_type": "code",
   "execution_count": 9,
   "id": "c3270f83",
   "metadata": {},
   "outputs": [],
   "source": [
    "from datetime import datetime\n",
    "import numpy as np\n",
    "import pandas as pd\n",
    "import xarray as xr\n",
    "import netCDF4 as nc\n",
    "import cartopy.crs as ccrs\n",
    "import cartopy.feature as cfeature\n",
    "import matplotlib.pyplot as plt"
   ]
  },
  {
   "cell_type": "code",
   "execution_count": 10,
   "id": "6ba60748",
   "metadata": {},
   "outputs": [],
   "source": [
    "erossby=xr.open_dataset('E:\\CobaWK99\\Data Hasil Filter\\wk_er_olr.nc')\n",
    "mrossby=xr.open_dataset('E:\\CobaWK99\\Data Hasil Filter\\wk_mrg_olr.nc')"
   ]
  },
  {
   "cell_type": "code",
   "execution_count": 35,
   "id": "ae18f3c1-d7f7-4455-981c-ad5b654ac4c9",
   "metadata": {},
   "outputs": [],
   "source": [
    "idxer1=erossby.sel(lat= slice(3,14), lon=slice(86,101), time=slice('1979-01-01T00:00:00.000000000','2020-12-31T00:00:00.000000000')).mean(dim=('lat','lon'))['olr_er']\n",
    "idxer2=erossby.sel(lat= slice(-16,-4), lon=slice(113,128), time=slice('1979-01-01T00:00:00.000000000','2020-12-31T00:00:00.000000000')).mean(dim=('lat','lon'))['olr_er']\n",
    "idxer=idxer1-idxer2"
   ]
  },
  {
   "cell_type": "code",
   "execution_count": 36,
   "id": "d9aa91a2-cd91-4e2a-bfef-6db1311aa778",
   "metadata": {},
   "outputs": [],
   "source": [
    "mrg1 = mrossby.sel(lat= slice(2,9), lon=slice(97,110), time=slice('1979-01-01T00:00:00.000000000','2020-12-31T00:00:00.000000000')).mean(dim=('lat','lon'))['olr_mrg']\n",
    "mrg2 = mrossby.sel(lat= slice(-6,-3), lon=slice(105,117), time=slice('1979-01-01T00:00:00.000000000','2020-12-31T00:00:00.000000000')).mean(dim=('lat','lon'))['olr_mrg']\n",
    "idxmrg=mrg1-mrg2"
   ]
  },
  {
   "cell_type": "code",
   "execution_count": 37,
   "id": "acb46464",
   "metadata": {},
   "outputs": [],
   "source": [
    "time=idxer['time'][1:-1].values"
   ]
  },
  {
   "cell_type": "code",
   "execution_count": 38,
   "id": "09abdafe",
   "metadata": {},
   "outputs": [],
   "source": [
    "dtidxmrg=(idxmrg[2:].values-idxmrg[:-2].values)/2\n",
    "dtidxer=(idxer[2:].values-idxer[:-2].values)/2"
   ]
  },
  {
   "cell_type": "code",
   "execution_count": 39,
   "id": "a3d9697c",
   "metadata": {},
   "outputs": [],
   "source": [
    "idxmrgcut=idxmrg[1:-1].values\n",
    "idxercut=idxer[1:-1].values"
   ]
  },
  {
   "cell_type": "code",
   "execution_count": 40,
   "id": "4632526a",
   "metadata": {},
   "outputs": [],
   "source": [
    "#Normalization\n",
    "idxmrgcut=idxmrgcut/np.std(idxmrgcut)\n",
    "idxercut=idxercut/np.std(idxercut)\n",
    "dtidxmrg=dtidxmrg/np.std(dtidxmrg)\n",
    "dtidxer=dtidxer/np.std(dtidxer)"
   ]
  },
  {
   "cell_type": "code",
   "execution_count": 41,
   "id": "ec6576c7",
   "metadata": {},
   "outputs": [],
   "source": [
    "#Change directory to data location\n",
    "import os\n",
    "path = 'E:\\Daily Reanalisis ERA 5 v2'\n",
    "os.chdir(path)"
   ]
  },
  {
   "cell_type": "code",
   "execution_count": 42,
   "id": "f881e534",
   "metadata": {},
   "outputs": [],
   "source": [
    "ampmrg=np.sqrt(dtidxmrg**2+idxmrgcut**2)\n",
    "amper=np.sqrt(dtidxer**2+idxercut**2)"
   ]
  },
  {
   "cell_type": "code",
   "execution_count": 43,
   "id": "63d0fcd2",
   "metadata": {},
   "outputs": [],
   "source": [
    "angmrg=np.rad2deg(np.arctan2(dtidxmrg,idxmrgcut))\n",
    "anger=np.rad2deg(np.arctan2(dtidxer,idxercut))"
   ]
  },
  {
   "cell_type": "code",
   "execution_count": 44,
   "id": "b16ca394",
   "metadata": {},
   "outputs": [],
   "source": [
    "phmrg=np.empty([len(angmrg)])\n",
    "for i in range(len(angmrg)):\n",
    "    if (angmrg[i]<=45 and angmrg[i]>-45):\n",
    "        phmrg[i]=1\n",
    "    elif (angmrg[i]<=-45 and angmrg[i]>-135):\n",
    "        phmrg[i]=2\n",
    "    elif (angmrg[i]<=-135 or angmrg[i]>135):\n",
    "        phmrg[i]=3\n",
    "    elif (angmrg[i]<=135 and angmrg[i]>45):\n",
    "        phmrg[i]=4"
   ]
  },
  {
   "cell_type": "code",
   "execution_count": 45,
   "id": "336162d7",
   "metadata": {},
   "outputs": [],
   "source": [
    "pher=np.empty([len(anger)])\n",
    "for i in range(len(anger)):\n",
    "    if (anger[i]<=45 and anger[i]>-45):\n",
    "        pher[i]=1\n",
    "    elif (anger[i]<=-45 and anger[i]>-135):\n",
    "        pher[i]=2\n",
    "    elif (anger[i]<=-135 or anger[i]>135):\n",
    "        pher[i]=3\n",
    "    elif (anger[i]<=135 and anger[i]>45):\n",
    "        pher[i]=4"
   ]
  },
  {
   "cell_type": "code",
   "execution_count": 46,
   "id": "208651be",
   "metadata": {},
   "outputs": [
    {
     "data": {
      "text/html": [
       "<div>\n",
       "<style scoped>\n",
       "    .dataframe tbody tr th:only-of-type {\n",
       "        vertical-align: middle;\n",
       "    }\n",
       "\n",
       "    .dataframe tbody tr th {\n",
       "        vertical-align: top;\n",
       "    }\n",
       "\n",
       "    .dataframe thead th {\n",
       "        text-align: right;\n",
       "    }\n",
       "</style>\n",
       "<table border=\"1\" class=\"dataframe\">\n",
       "  <thead>\n",
       "    <tr style=\"text-align: right;\">\n",
       "      <th></th>\n",
       "      <th>time</th>\n",
       "      <th>phase mrg</th>\n",
       "      <th>amp mrg</th>\n",
       "      <th>phase er</th>\n",
       "      <th>amp er</th>\n",
       "    </tr>\n",
       "  </thead>\n",
       "  <tbody>\n",
       "    <tr>\n",
       "      <th>0</th>\n",
       "      <td>1979-01-02</td>\n",
       "      <td>1.0</td>\n",
       "      <td>0.051840</td>\n",
       "      <td>3.0</td>\n",
       "      <td>0.118740</td>\n",
       "    </tr>\n",
       "    <tr>\n",
       "      <th>1</th>\n",
       "      <td>1979-01-03</td>\n",
       "      <td>2.0</td>\n",
       "      <td>0.057774</td>\n",
       "      <td>3.0</td>\n",
       "      <td>0.122629</td>\n",
       "    </tr>\n",
       "    <tr>\n",
       "      <th>2</th>\n",
       "      <td>1979-01-04</td>\n",
       "      <td>3.0</td>\n",
       "      <td>0.065331</td>\n",
       "      <td>4.0</td>\n",
       "      <td>0.132772</td>\n",
       "    </tr>\n",
       "    <tr>\n",
       "      <th>3</th>\n",
       "      <td>1979-01-05</td>\n",
       "      <td>3.0</td>\n",
       "      <td>0.063530</td>\n",
       "      <td>4.0</td>\n",
       "      <td>0.140729</td>\n",
       "    </tr>\n",
       "    <tr>\n",
       "      <th>4</th>\n",
       "      <td>1979-01-06</td>\n",
       "      <td>4.0</td>\n",
       "      <td>0.046597</td>\n",
       "      <td>4.0</td>\n",
       "      <td>0.139911</td>\n",
       "    </tr>\n",
       "    <tr>\n",
       "      <th>...</th>\n",
       "      <td>...</td>\n",
       "      <td>...</td>\n",
       "      <td>...</td>\n",
       "      <td>...</td>\n",
       "      <td>...</td>\n",
       "    </tr>\n",
       "    <tr>\n",
       "      <th>15334</th>\n",
       "      <td>2020-12-26</td>\n",
       "      <td>2.0</td>\n",
       "      <td>0.529067</td>\n",
       "      <td>2.0</td>\n",
       "      <td>1.003094</td>\n",
       "    </tr>\n",
       "    <tr>\n",
       "      <th>15335</th>\n",
       "      <td>2020-12-27</td>\n",
       "      <td>2.0</td>\n",
       "      <td>0.485509</td>\n",
       "      <td>2.0</td>\n",
       "      <td>0.521547</td>\n",
       "    </tr>\n",
       "    <tr>\n",
       "      <th>15336</th>\n",
       "      <td>2020-12-28</td>\n",
       "      <td>3.0</td>\n",
       "      <td>0.411978</td>\n",
       "      <td>3.0</td>\n",
       "      <td>0.392161</td>\n",
       "    </tr>\n",
       "    <tr>\n",
       "      <th>15337</th>\n",
       "      <td>2020-12-29</td>\n",
       "      <td>4.0</td>\n",
       "      <td>0.361821</td>\n",
       "      <td>4.0</td>\n",
       "      <td>0.619055</td>\n",
       "    </tr>\n",
       "    <tr>\n",
       "      <th>15338</th>\n",
       "      <td>2020-12-30</td>\n",
       "      <td>4.0</td>\n",
       "      <td>0.444890</td>\n",
       "      <td>4.0</td>\n",
       "      <td>0.749714</td>\n",
       "    </tr>\n",
       "  </tbody>\n",
       "</table>\n",
       "<p>15339 rows × 5 columns</p>\n",
       "</div>"
      ],
      "text/plain": [
       "            time  phase mrg   amp mrg  phase er    amp er\n",
       "0     1979-01-02        1.0  0.051840       3.0  0.118740\n",
       "1     1979-01-03        2.0  0.057774       3.0  0.122629\n",
       "2     1979-01-04        3.0  0.065331       4.0  0.132772\n",
       "3     1979-01-05        3.0  0.063530       4.0  0.140729\n",
       "4     1979-01-06        4.0  0.046597       4.0  0.139911\n",
       "...          ...        ...       ...       ...       ...\n",
       "15334 2020-12-26        2.0  0.529067       2.0  1.003094\n",
       "15335 2020-12-27        2.0  0.485509       2.0  0.521547\n",
       "15336 2020-12-28        3.0  0.411978       3.0  0.392161\n",
       "15337 2020-12-29        4.0  0.361821       4.0  0.619055\n",
       "15338 2020-12-30        4.0  0.444890       4.0  0.749714\n",
       "\n",
       "[15339 rows x 5 columns]"
      ]
     },
     "execution_count": 46,
     "metadata": {},
     "output_type": "execute_result"
    }
   ],
   "source": [
    "tglidxermrg=pd.DataFrame({'time': time,\n",
    "                         'phase mrg':phmrg,\n",
    "                         'amp mrg'  :ampmrg,\n",
    "                         'phase er' :pher,\n",
    "                         'amp er'   :amper,\n",
    "                          })\n",
    "tglidxermrg"
   ]
  },
  {
   "cell_type": "code",
   "execution_count": 47,
   "id": "a11df648",
   "metadata": {},
   "outputs": [],
   "source": [
    "writer = pd.ExcelWriter('calculation_output\\Indeks ER MRG Double Side ER EWNS.xlsx')\n",
    "tglidxermrg.to_excel(writer, 'CENS_event')\n",
    "writer.close()"
   ]
  },
  {
   "cell_type": "code",
   "execution_count": null,
   "id": "f309f729",
   "metadata": {},
   "outputs": [],
   "source": []
  }
 ],
 "metadata": {
  "kernelspec": {
   "display_name": "Python 3 (ipykernel)",
   "language": "python",
   "name": "python3"
  },
  "language_info": {
   "codemirror_mode": {
    "name": "ipython",
    "version": 3
   },
   "file_extension": ".py",
   "mimetype": "text/x-python",
   "name": "python",
   "nbconvert_exporter": "python",
   "pygments_lexer": "ipython3",
   "version": "3.11.7"
  }
 },
 "nbformat": 4,
 "nbformat_minor": 5
}
