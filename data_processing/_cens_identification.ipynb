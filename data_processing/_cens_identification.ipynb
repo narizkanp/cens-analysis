{
 "cells": [
  {
   "cell_type": "code",
   "execution_count": 4,
   "id": "0c72dd57-c0ce-430e-8a98-821a4ebf4907",
   "metadata": {},
   "outputs": [],
   "source": [
    "#Change directory to data location\n",
    "import os\n",
    "path = 'E:\\Daily Reanalisis ERA 5 v2'\n",
    "os.chdir(path)"
   ]
  },
  {
   "cell_type": "code",
   "execution_count": 5,
   "id": "fb7e0ee9-68ce-4ada-9c57-1b8f5cc1b1c3",
   "metadata": {},
   "outputs": [],
   "source": [
    "import warnings\n",
    "warnings.simplefilter('ignore') #ignores simple warning"
   ]
  },
  {
   "cell_type": "code",
   "execution_count": 6,
   "id": "0b9826ef-49f4-4e25-851d-b2c89d7896bf",
   "metadata": {},
   "outputs": [],
   "source": [
    "import numpy as np\n",
    "import pandas as pd\n",
    "import xarray as xr\n",
    "import matplotlib.pyplot as plt\n",
    "from tqdm import tqdm"
   ]
  },
  {
   "cell_type": "code",
   "execution_count": 7,
   "id": "4275d274-a460-418e-816f-2d84941ca50b",
   "metadata": {},
   "outputs": [],
   "source": [
    "#Read data\n",
    "datav10 = xr.open_mfdataset('v10\\*.nc',combine = 'by_coords')\n",
    "datau10 = xr.open_mfdataset('u10\\*.nc',combine = 'by_coords')\n",
    "datamsl = xr.open_mfdataset('mslp\\*.nc',combine = 'by_coords')/100\n",
    "datav925 = xr.open_mfdataset('v925\\*.nc',combine = 'by_coords')\n",
    "datau925 = xr.open_mfdataset('u925\\*.nc',combine = 'by_coords')"
   ]
  },
  {
   "cell_type": "code",
   "execution_count": 8,
   "id": "08dd8ce6-5dbe-4e81-9a4b-83a46955a7ee",
   "metadata": {},
   "outputs": [
    {
     "name": "stdout",
     "output_type": "stream",
     "text": [
      "threshold CENS idx=  -4.158942103385925 m/s\n"
     ]
    }
   ],
   "source": [
    "#CENS Identification\n",
    "#Averaged v10 (105-110 BT, 0-5 LS) < mean-std\n",
    "censidx=datav10.sel(lat= slice(-5,0), lon=slice(105,110), time=slice('1979-11-01T00:00:00.000000000','2020-03-31T00:00:00.000000000'))\n",
    "censidx=censidx.rolling(time=3, center=True).mean()\n",
    "censidx=censidx.sel(time=censidx.time.dt.season==\"DJF\")\n",
    "censidx=censidx.mean(dim=('lat', 'lon'))\n",
    "\n",
    "#Time data\n",
    "time=censidx.variables['time'].values\n",
    "\n",
    "#Change to np array\n",
    "#Calculate threshold\n",
    "vcens=censidx.variables['v10'].values\n",
    "th=np.mean(vcens)-1*np.std(vcens)\n",
    "print('threshold CENS idx= ', th, 'm/s')\n",
    "\n",
    "#Event CENS --> vcens<th\n",
    "censevt=(vcens<th)*1"
   ]
  },
  {
   "cell_type": "code",
   "execution_count": 9,
   "id": "81e00738-8526-4e78-b658-fbe5565a2e51",
   "metadata": {},
   "outputs": [
    {
     "name": "stdout",
     "output_type": "stream",
     "text": [
      "threshold CS wind idx=  11.791974186897278 m/s\n",
      "threshold CS mslp idx=  1018.0279010534286 hPa\n"
     ]
    }
   ],
   "source": [
    "#CS no-CS Classification\n",
    "#u<=0\n",
    "ucs=datau925.sel(lat= slice(5,10), lon=slice(107,115), time=slice('1979-12-01T00:00:00.000000000','2020-02-29T00:00:00.000000000'))\n",
    "ucs=ucs.sel(time=ucs.time.dt.season==\"DJF\")['u'].values\n",
    "ucsidx=np.mean(np.mean(ucs, axis=2), axis=1)<=0\n",
    "\n",
    "#v<0\n",
    "vcs=datav925.sel(lat= slice(5,10), lon=slice(107,115), time=slice('1979-12-01T00:00:00.000000000','2020-02-29T00:00:00.000000000'))\n",
    "vcs=vcs.sel(time=vcs.time.dt.season==\"DJF\")['v'].values\n",
    "vcsidx=np.mean(np.mean(vcs, axis=2), axis=1)<0\n",
    "\n",
    "#windspeed>=mean+0.5 std\n",
    "wd=np.sqrt(ucs**2+vcs**2)\n",
    "wd=np.mean(np.mean(wd, axis=2), axis=1)\n",
    "thwd=(np.mean(wd)+0.5*np.std(wd))\n",
    "wdidx=wd>=thwd\n",
    "print('threshold CS wind idx= ', thwd, 'm/s')\n",
    "wdcsidx=(vcsidx*ucsidx*wdidx)\n",
    "\n",
    "#MSLP criteria (18-22 LU, 105-122 BT)\n",
    "#MSLP in any grid>=1020 hPa\n",
    "mslcs=datamsl.sel(lat= slice(18,22), lon=slice(105,122), time=slice('1979-12-01T00:00:00.000000000','2020-02-29T00:00:00.000000000'))\n",
    "mslcs=mslcs.sel(time=mslcs.time.dt.season==\"DJF\")['msl'].values\n",
    "mslcs=np.mean(np.mean(mslcs, axis=2), axis=1)\n",
    "thmsl=(np.mean(mslcs)+0.25*np.std(mslcs))\n",
    "print('threshold CS mslp idx= ',thmsl, 'hPa')\n",
    "mslcsidx=mslcs>=thmsl"
   ]
  },
  {
   "cell_type": "code",
   "execution_count": 11,
   "id": "e8e5701d-20bd-484e-a3d0-07638bcc13a4",
   "metadata": {},
   "outputs": [],
   "source": [
    "#Calculate information in each CENS event\n",
    "#duration  : number of consecutive days when the index pass the threshold\n",
    "#idxmin : CENS index when CENS is strongest \n",
    "#time_start : first day when the index pass the threshold\n",
    "#time_cens : day when CENS is strongest (vcens minimum)\n",
    "#time_end : last day when the index pass the threshold\n",
    "#csevt : CS no-CS classification\n",
    "\n",
    "duration = []\n",
    "idxmin = []\n",
    "time_start = []\n",
    "time_cens = []\n",
    "time_end = []\n",
    "csevt = []\n",
    "running_count = 1\n",
    "for i in range(len(censevt)-1):\n",
    "    if censevt[i] == censevt[i+1]:\n",
    "        running_count += 1\n",
    "    else:\n",
    "        if censevt[i]==1:\n",
    "            duration.append(running_count)\n",
    "            first=i-running_count+1\n",
    "            time_start.append(time[first])\n",
    "            idxmin.append(np.min(vcens[first:i+1]))\n",
    "            arraymin=np.array(np.where(vcens[first:i+1]==np.min(vcens[first:i+1])))[0][0]+first\n",
    "            time_cens.append(time[arraymin])\n",
    "            time_end.append(time[i])\n",
    "            if (wdcsidx[arraymin] or wdcsidx[arraymin-1]) and (mslcsidx[arraymin] or mslcsidx[arraymin-1]):\n",
    "                csevt.append(1)\n",
    "            else:\n",
    "                csevt.append(0)\n",
    "        running_count = 1"
   ]
  },
  {
   "cell_type": "code",
   "execution_count": 12,
   "id": "8ce45869-b3dc-4c27-b8c4-727c612743da",
   "metadata": {},
   "outputs": [],
   "source": [
    "tglcenstab=pd.DataFrame({'time_cens': time_cens, \n",
    "                         'maxmagnitude': idxmin,\n",
    "                         'duration': duration,\n",
    "                         'time_start' : time_start,\n",
    "                         'time_end': time_end,\n",
    "                         'cs event' : csevt})"
   ]
  },
  {
   "cell_type": "code",
   "execution_count": 14,
   "id": "99df4344-13c5-491f-80a9-085ba0fc6fca",
   "metadata": {},
   "outputs": [],
   "source": [
    "#Save to excel file\n",
    "writer = pd.ExcelWriter('calculation_output\\CENS Event 3 days Running Mean.xlsx')\n",
    "tglcenstab.to_excel(writer, 'CENS_event')\n",
    "writer.close()"
   ]
  },
  {
   "cell_type": "code",
   "execution_count": 15,
   "id": "caec4edd-e4e5-47af-9792-d71a5b3fb49a",
   "metadata": {},
   "outputs": [
    {
     "name": "stdout",
     "output_type": "stream",
     "text": [
      "Threshold CENS index                                  :  -4.158942103385925 m/s\n",
      "Number of CENS Event (D(0)JF(1) 1979 - D(0)JF(1) 2019):  117  events\n",
      "Number of CENS-CS Event                               :  69  events\n",
      "Number of CENS-no CS Event                            :  48  events\n",
      "CENS Frequency per Season                             :  2.8536585365853657  events\n",
      "CENS Frequency per Season CENS-CS Event               :  1.6829268292682926  events\n",
      "CENS Frequency per Season CENS-no CS Event            :  1.170731707317073  events\n",
      "CENS Index Average                                    :  -5.1063433  m/s\n",
      "CENS Index Average CENS-CS Event                      :  -5.2526155  m/s\n",
      "CENS Index Average CENS-no CS Event                   :  -4.8960757  m/s\n",
      "Duration Total                                        :  596  days\n",
      "Duration Total CENS-CS Event                          :  367  days\n",
      "Duration Total CENS-no CS Event                       :  229  days\n",
      "Duration Average                                      :  5.094017094017094  days\n",
      "Duration Average CENS-CS Event                        :  5.318840579710145  days\n",
      "Duration Average CENS-no CS Event                     :  4.770833333333333  days\n"
     ]
    }
   ],
   "source": [
    "#Statistic of CENS Event #3 days running mean\n",
    "print('Threshold CENS index                                  : ', th, 'm/s')\n",
    "print('Number of CENS Event (D(0)JF(1) 1979 - D(0)JF(1) 2019): ', np.shape(time_cens)[0], ' events')\n",
    "print('Number of CENS-CS Event                               : ', np.sum(csevt), ' events')\n",
    "print('Number of CENS-no CS Event                            : ', np.shape(time_cens)[0]-np.sum(csevt), ' events')\n",
    "print('CENS Frequency per Season                             : ', np.shape(time_cens)[0]/(2020-1979), ' events')\n",
    "print('CENS Frequency per Season CENS-CS Event               : ', np.sum(csevt)/(2020-1979), ' events')\n",
    "print('CENS Frequency per Season CENS-no CS Event            : ', (np.shape(time_cens)[0]-np.sum(csevt))/(2020-1979), ' events')\n",
    "print('CENS Index Average                                    : ', np.mean(idxmin), ' m/s')\n",
    "print('CENS Index Average CENS-CS Event                      : ', np.mean(np.array(idxmin)[np.where(np.array(csevt)==1)]), ' m/s')\n",
    "print('CENS Index Average CENS-no CS Event                   : ', np.mean(np.array(idxmin)[np.where(np.array(csevt)==0)]), ' m/s')\n",
    "print('Duration Total                                        : ', np.sum(duration), ' days')\n",
    "print('Duration Total CENS-CS Event                          : ', np.sum(np.array(duration)[np.where(np.array(csevt)==1)]), ' days')\n",
    "print('Duration Total CENS-no CS Event                       : ', np.sum(np.array(duration)[np.where(np.array(csevt)==0)]), ' days')\n",
    "print('Duration Average                                      : ', np.mean(duration), ' days')\n",
    "print('Duration Average CENS-CS Event                        : ', np.mean(np.array(duration)[np.where(np.array(csevt)==1)]), ' days')\n",
    "print('Duration Average CENS-no CS Event                     : ', np.mean(np.array(duration)[np.where(np.array(csevt)==0)]), ' days')"
   ]
  },
  {
   "cell_type": "code",
   "execution_count": null,
   "id": "60408fc9-117d-4497-924a-42f4a390ce2d",
   "metadata": {},
   "outputs": [],
   "source": []
  }
 ],
 "metadata": {
  "kernelspec": {
   "display_name": "Python 3 (ipykernel)",
   "language": "python",
   "name": "python3"
  },
  "language_info": {
   "codemirror_mode": {
    "name": "ipython",
    "version": 3
   },
   "file_extension": ".py",
   "mimetype": "text/x-python",
   "name": "python",
   "nbconvert_exporter": "python",
   "pygments_lexer": "ipython3",
   "version": "3.11.7"
  }
 },
 "nbformat": 4,
 "nbformat_minor": 5
}
